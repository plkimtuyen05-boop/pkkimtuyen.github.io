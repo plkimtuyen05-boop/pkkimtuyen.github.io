{
 "cells": [
  {
   "cell_type": "code",
   "execution_count": 17,
   "id": "21f94067-093f-4375-b8b0-ae5a150f624b",
   "metadata": {},
   "outputs": [
    {
     "name": "stdout",
     "output_type": "stream",
     "text": [
      "<class 'pandas.core.frame.DataFrame'>\n",
      "RangeIndex: 199 entries, 0 to 198\n",
      "Data columns (total 38 columns):\n",
      " #   Column  Non-Null Count  Dtype \n",
      "---  ------  --------------  ----- \n",
      " 0   Gender  199 non-null    object\n",
      " 1   Age     199 non-null    object\n",
      " 2   Income  199 non-null    object\n",
      " 3   Edu     199 non-null    object\n",
      " 4   TOUI    199 non-null    int64 \n",
      " 5   ST1     199 non-null    int64 \n",
      " 6   ST2     199 non-null    int64 \n",
      " 7   ST3     199 non-null    int64 \n",
      " 8   ST4     199 non-null    int64 \n",
      " 9   SQ1     199 non-null    int64 \n",
      " 10  SQ2     199 non-null    int64 \n",
      " 11  SQ3     199 non-null    int64 \n",
      " 12  SQ4     199 non-null    int64 \n",
      " 13  SQ5     199 non-null    int64 \n",
      " 14  FOMO1   199 non-null    int64 \n",
      " 15  FOMO2   199 non-null    int64 \n",
      " 16  FOMO3   199 non-null    int64 \n",
      " 17  FOMO4   199 non-null    int64 \n",
      " 18  FOMO5   199 non-null    int64 \n",
      " 19  PU1     199 non-null    int64 \n",
      " 20  PU2     199 non-null    int64 \n",
      " 21  PU3     199 non-null    int64 \n",
      " 22  PU4     199 non-null    int64 \n",
      " 23  PU5     199 non-null    int64 \n",
      " 24  BE1     199 non-null    int64 \n",
      " 25  BE2     199 non-null    int64 \n",
      " 26  BE3     199 non-null    int64 \n",
      " 27  BE4     199 non-null    int64 \n",
      " 28  BE5     199 non-null    int64 \n",
      " 29  SE1     199 non-null    int64 \n",
      " 30  SE2     199 non-null    int64 \n",
      " 31  SE3     199 non-null    int64 \n",
      " 32  SE4     199 non-null    int64 \n",
      " 33  US1     199 non-null    int64 \n",
      " 34  US2     199 non-null    int64 \n",
      " 35  US3     199 non-null    int64 \n",
      " 36  US4     199 non-null    int64 \n",
      " 37  US5     199 non-null    int64 \n",
      "dtypes: int64(34), object(4)\n",
      "memory usage: 59.2+ KB\n"
     ]
    },
    {
     "data": {
      "text/plain": [
       "Gender    0\n",
       "Age       0\n",
       "Income    0\n",
       "Edu       0\n",
       "TOUI      0\n",
       "ST1       0\n",
       "ST2       0\n",
       "ST3       0\n",
       "ST4       0\n",
       "SQ1       0\n",
       "SQ2       0\n",
       "SQ3       0\n",
       "SQ4       0\n",
       "SQ5       0\n",
       "FOMO1     0\n",
       "FOMO2     0\n",
       "FOMO3     0\n",
       "FOMO4     0\n",
       "FOMO5     0\n",
       "PU1       0\n",
       "PU2       0\n",
       "PU3       0\n",
       "PU4       0\n",
       "PU5       0\n",
       "BE1       0\n",
       "BE2       0\n",
       "BE3       0\n",
       "BE4       0\n",
       "BE5       0\n",
       "SE1       0\n",
       "SE2       0\n",
       "SE3       0\n",
       "SE4       0\n",
       "US1       0\n",
       "US2       0\n",
       "US3       0\n",
       "US4       0\n",
       "US5       0\n",
       "dtype: int64"
      ]
     },
     "execution_count": 17,
     "metadata": {},
     "output_type": "execute_result"
    }
   ],
   "source": [
    "import pandas as pd\n",
    "\n",
    "# Đọc file Excel\n",
    "data = pd.read_excel(\"data.xlsx\")\n",
    "data.rename(columns={\"SR4\": \"ST4\"}, inplace=True)\n",
    "\n",
    "# Xem 5 dòng đầu\n",
    "data.head()\n",
    "\n",
    "# Kiểm tra thông tin cơ bản\n",
    "data.info()\n",
    "\n",
    "# Kiểm tra giá trị thiếu\n",
    "data.isnull().sum()"
   ]
  },
  {
   "cell_type": "code",
   "execution_count": 18,
   "id": "a43abc4a-44bc-498a-809d-5a2a5607f6e4",
   "metadata": {},
   "outputs": [
    {
     "name": "stdout",
     "output_type": "stream",
     "text": [
      "Requirement already satisfied: openpyxl in /usr/local/python/3.12.1/lib/python3.12/site-packages (3.1.5)\n",
      "Requirement already satisfied: et-xmlfile in /usr/local/python/3.12.1/lib/python3.12/site-packages (from openpyxl) (2.0.0)\n",
      "\n",
      "\u001b[1m[\u001b[0m\u001b[34;49mnotice\u001b[0m\u001b[1;39;49m]\u001b[0m\u001b[39;49m A new release of pip is available: \u001b[0m\u001b[31;49m25.1.1\u001b[0m\u001b[39;49m -> \u001b[0m\u001b[32;49m25.2\u001b[0m\n",
      "\u001b[1m[\u001b[0m\u001b[34;49mnotice\u001b[0m\u001b[1;39;49m]\u001b[0m\u001b[39;49m To update, run: \u001b[0m\u001b[32;49mpython3 -m pip install --upgrade pip\u001b[0m\n"
     ]
    }
   ],
   "source": [
    "!pip install openpyxl\n"
   ]
  },
  {
   "cell_type": "markdown",
   "id": "b4c8b75a-17e8-4a2f-aecf-4a29e812bb5c",
   "metadata": {},
   "source": [
    "LÀM SẠCH DỮ LIỆU"
   ]
  },
  {
   "cell_type": "code",
   "execution_count": 19,
   "id": "cd255899-215e-435c-836c-d43605e26994",
   "metadata": {},
   "outputs": [
    {
     "name": "stdout",
     "output_type": "stream",
     "text": [
      "<class 'pandas.core.frame.DataFrame'>\n",
      "RangeIndex: 199 entries, 0 to 198\n",
      "Data columns (total 38 columns):\n",
      " #   Column  Non-Null Count  Dtype \n",
      "---  ------  --------------  ----- \n",
      " 0   Gender  199 non-null    object\n",
      " 1   Age     199 non-null    object\n",
      " 2   Income  199 non-null    object\n",
      " 3   Edu     199 non-null    object\n",
      " 4   TOUI    199 non-null    int64 \n",
      " 5   ST1     199 non-null    int64 \n",
      " 6   ST2     199 non-null    int64 \n",
      " 7   ST3     199 non-null    int64 \n",
      " 8   ST4     199 non-null    int64 \n",
      " 9   SQ1     199 non-null    int64 \n",
      " 10  SQ2     199 non-null    int64 \n",
      " 11  SQ3     199 non-null    int64 \n",
      " 12  SQ4     199 non-null    int64 \n",
      " 13  SQ5     199 non-null    int64 \n",
      " 14  FOMO1   199 non-null    int64 \n",
      " 15  FOMO2   199 non-null    int64 \n",
      " 16  FOMO3   199 non-null    int64 \n",
      " 17  FOMO4   199 non-null    int64 \n",
      " 18  FOMO5   199 non-null    int64 \n",
      " 19  PU1     199 non-null    int64 \n",
      " 20  PU2     199 non-null    int64 \n",
      " 21  PU3     199 non-null    int64 \n",
      " 22  PU4     199 non-null    int64 \n",
      " 23  PU5     199 non-null    int64 \n",
      " 24  BE1     199 non-null    int64 \n",
      " 25  BE2     199 non-null    int64 \n",
      " 26  BE3     199 non-null    int64 \n",
      " 27  BE4     199 non-null    int64 \n",
      " 28  BE5     199 non-null    int64 \n",
      " 29  SE1     199 non-null    int64 \n",
      " 30  SE2     199 non-null    int64 \n",
      " 31  SE3     199 non-null    int64 \n",
      " 32  SE4     199 non-null    int64 \n",
      " 33  US1     199 non-null    int64 \n",
      " 34  US2     199 non-null    int64 \n",
      " 35  US3     199 non-null    int64 \n",
      " 36  US4     199 non-null    int64 \n",
      " 37  US5     199 non-null    int64 \n",
      "dtypes: int64(34), object(4)\n",
      "memory usage: 59.2+ KB\n"
     ]
    },
    {
     "data": {
      "text/plain": [
       "np.int64(15)"
      ]
     },
     "execution_count": 19,
     "metadata": {},
     "output_type": "execute_result"
    }
   ],
   "source": [
    "data.info()\n",
    "data.describe()\n",
    "data.isnull().sum()\n",
    "data.duplicated().sum()"
   ]
  },
  {
   "cell_type": "markdown",
   "id": "d1136a6f-9101-4ec5-9dff-9d80db6bf04c",
   "metadata": {},
   "source": [
    "KIỂM ĐỊNH ĐỘ TIN CẬY THANG ĐO (Cronbach’s α)"
   ]
  },
  {
   "cell_type": "code",
   "execution_count": 20,
   "id": "cf170a6b-cf2d-4e9a-8dfd-a8c7fd7f64a4",
   "metadata": {},
   "outputs": [
    {
     "name": "stdout",
     "output_type": "stream",
     "text": [
      "=== Nhóm: Scarcity  ( 9 items ) ===\n",
      "  Cronbach's alpha = 0.945\n",
      "  Item-total correlations:\n",
      "    ST1: 0.719\n",
      "    ST2: 0.770\n",
      "    ST3: 0.793\n",
      "    ST4: 0.783\n",
      "    SQ1: 0.785\n",
      "    SQ2: 0.787\n",
      "    SQ3: 0.786\n",
      "    SQ4: 0.823\n",
      "    SQ5: 0.816\n",
      "  Alpha if item deleted:\n",
      "    drop ST1: alpha = 0.942\n",
      "    drop ST2: alpha = 0.939\n",
      "    drop ST3: alpha = 0.938\n",
      "    drop ST4: alpha = 0.939\n",
      "    drop SQ1: alpha = 0.938\n",
      "    drop SQ2: alpha = 0.938\n",
      "    drop SQ3: alpha = 0.938\n",
      "    drop SQ4: alpha = 0.936\n",
      "    drop SQ5: alpha = 0.937\n",
      "\n",
      "=== Nhóm: FOMO  ( 5 items ) ===\n",
      "  Cronbach's alpha = 0.919\n",
      "  Item-total correlations:\n",
      "    FOMO1: 0.815\n",
      "    FOMO2: 0.814\n",
      "    FOMO3: 0.850\n",
      "    FOMO4: 0.718\n",
      "    FOMO5: 0.763\n",
      "  Alpha if item deleted:\n",
      "    drop FOMO1: alpha = 0.896\n",
      "    drop FOMO2: alpha = 0.896\n",
      "    drop FOMO3: alpha = 0.888\n",
      "    drop FOMO4: alpha = 0.915\n",
      "    drop FOMO5: alpha = 0.907\n",
      "\n",
      "=== Nhóm: PU  ( 5 items ) ===\n",
      "  Cronbach's alpha = 0.943\n",
      "  Item-total correlations:\n",
      "    PU1: 0.838\n",
      "    PU2: 0.876\n",
      "    PU3: 0.833\n",
      "    PU4: 0.870\n",
      "    PU5: 0.808\n",
      "  Alpha if item deleted:\n",
      "    drop PU1: alpha = 0.931\n",
      "    drop PU2: alpha = 0.924\n",
      "    drop PU3: alpha = 0.932\n",
      "    drop PU4: alpha = 0.925\n",
      "    drop PU5: alpha = 0.936\n",
      "\n",
      "=== Nhóm: BE  ( 5 items ) ===\n",
      "  Cronbach's alpha = 0.928\n",
      "  Item-total correlations:\n",
      "    BE1: 0.774\n",
      "    BE2: 0.840\n",
      "    BE3: 0.819\n",
      "    BE4: 0.819\n",
      "    BE5: 0.804\n",
      "  Alpha if item deleted:\n",
      "    drop BE1: alpha = 0.919\n",
      "    drop BE2: alpha = 0.906\n",
      "    drop BE3: alpha = 0.910\n",
      "    drop BE4: alpha = 0.910\n",
      "    drop BE5: alpha = 0.913\n",
      "\n",
      "=== Nhóm: SE  ( 4 items ) ===\n",
      "  Cronbach's alpha = 0.905\n",
      "  Item-total correlations:\n",
      "    SE1: 0.768\n",
      "    SE2: 0.807\n",
      "    SE3: 0.814\n",
      "    SE4: 0.760\n",
      "  Alpha if item deleted:\n",
      "    drop SE1: alpha = 0.884\n",
      "    drop SE2: alpha = 0.870\n",
      "    drop SE3: alpha = 0.867\n",
      "    drop SE4: alpha = 0.888\n",
      "\n",
      "=== Nhóm: US  ( 5 items ) ===\n",
      "  Cronbach's alpha = 0.901\n",
      "  Item-total correlations:\n",
      "    US1: 0.731\n",
      "    US2: 0.846\n",
      "    US3: 0.774\n",
      "    US4: 0.739\n",
      "    US5: 0.701\n",
      "  Alpha if item deleted:\n",
      "    drop US1: alpha = 0.885\n",
      "    drop US2: alpha = 0.860\n",
      "    drop US3: alpha = 0.876\n",
      "    drop US4: alpha = 0.886\n",
      "    drop US5: alpha = 0.891\n",
      "\n"
     ]
    }
   ],
   "source": [
    "# Bước 2: Cronbach's Alpha và phân tích item\n",
    "import pandas as pd\n",
    "import numpy as np\n",
    "\n",
    "# giả sử data đã nạp và tên là `data`\n",
    "# xác nhận lại các nhóm biến (đã chỉnh ST4)\n",
    "scarcity_cols = ['ST1', 'ST2', 'ST3', 'ST4','SQ1', 'SQ2', 'SQ3', 'SQ4', 'SQ5']\n",
    "scarcity_time_cols = ['ST1', 'ST2', 'ST3', 'ST4']\n",
    "scarcity_quantity_cols = ['SQ1', 'SQ2', 'SQ3', 'SQ4', 'SQ5']\n",
    "fomo_cols     = ['FOMO1', 'FOMO2', 'FOMO3', 'FOMO4', 'FOMO5']\n",
    "pu_cols       = ['PU1', 'PU2', 'PU3', 'PU4', 'PU5']\n",
    "be_cols       = ['BE1', 'BE2', 'BE3', 'BE4', 'BE5']\n",
    "se_cols       = ['SE1', 'SE2', 'SE3', 'SE4']\n",
    "us_cols       = ['US1', 'US2', 'US3', 'US4', 'US5']\n",
    "\n",
    "groups = {\n",
    "    \"Scarcity\": scarcity_cols,\n",
    "    \"FOMO\": fomo_cols,\n",
    "    \"PU\": pu_cols,\n",
    "    \"BE\": be_cols,\n",
    "    \"SE\": se_cols,\n",
    "    \"US\": us_cols\n",
    "}\n",
    "\n",
    "def cronbach_alpha(df_items):\n",
    "    \"\"\"Cronbach's alpha bằng công thức: alpha = (N/(N-1))*(1 - sum(var_i)/var_total)\"\"\"\n",
    "    df = df_items.dropna(axis=0, how='any')  # loại hàng có missing nếu có\n",
    "    item_vars = df.var(axis=0, ddof=1)\n",
    "    total_var = df.sum(axis=1).var(ddof=1)\n",
    "    N = df.shape[1]\n",
    "    if N <= 1:\n",
    "        return np.nan\n",
    "    alpha = (N / (N - 1)) * (1 - item_vars.sum() / total_var)\n",
    "    return alpha\n",
    "\n",
    "def item_total_correlations(df_items):\n",
    "    \"\"\"Tính hệ số tương quan giữa từng item và tổng của các item còn lại (item-total)\"\"\"\n",
    "    res = {}\n",
    "    for col in df_items.columns:\n",
    "        others = df_items.drop(columns=[col]).sum(axis=1)\n",
    "        r = df_items[col].corr(others)\n",
    "        res[col] = r\n",
    "    return res\n",
    "\n",
    "def alpha_if_item_deleted(df_items):\n",
    "    \"\"\"Tính α nếu loại từng item\"\"\"\n",
    "    res = {}\n",
    "    for col in df_items.columns:\n",
    "        df2 = df_items.drop(columns=[col])\n",
    "        res[col] = cronbach_alpha(df2)\n",
    "    return res\n",
    "\n",
    "# Chạy cho từng nhóm và in kết quả\n",
    "for name, cols in groups.items():\n",
    "    print(\"=== Nhóm:\", name, \" (\", len(cols), \"items ) ===\")\n",
    "    # kiểm tra tồn tại các cột\n",
    "    missing_cols = [c for c in cols if c not in data.columns]\n",
    "    if missing_cols:\n",
    "        print(\"  Lỗi: thiếu cột trong dữ liệu:\", missing_cols)\n",
    "        print()\n",
    "        continue\n",
    "\n",
    "    df_grp = data[cols].astype(float)  # đảm bảo kiểu số\n",
    "    alpha = cronbach_alpha(df_grp)\n",
    "    print(f\"  Cronbach's alpha = {alpha:.3f}\")\n",
    "\n",
    "    # item-total correlations\n",
    "    itc = item_total_correlations(df_grp)\n",
    "    print(\"  Item-total correlations:\")\n",
    "    for k, v in itc.items():\n",
    "        print(f\"    {k}: {v:.3f}\")\n",
    "\n",
    "    # alpha if item deleted\n",
    "    a_del = alpha_if_item_deleted(df_grp)\n",
    "    print(\"  Alpha if item deleted:\")\n",
    "    for k, v in a_del.items():\n",
    "        print(f\"    drop {k}: alpha = {v:.3f}\")\n",
    "    print()\n",
    "#Kết luận Bước 2: Tất cả α > 0.9 → rất tốt, thang đo đáng tin cậy, không cần loại mục nào. Không có item nào làm tăng alpha nếu bị loại → giữ nguyên toàn bộ 38 câu hỏi."
   ]
  },
  {
   "cell_type": "markdown",
   "id": "947d681f-fe3e-4a51-abab-f02ed7cb5e3a",
   "metadata": {},
   "source": [
    "TẠO BIẾN TỔNG HỢP, PHÂN TÍCH MÔ TẢ"
   ]
  },
  {
   "cell_type": "code",
   "execution_count": 21,
   "id": "deff44d3-6bf2-4aaf-8599-cd891047144b",
   "metadata": {},
   "outputs": [
    {
     "name": "stdout",
     "output_type": "stream",
     "text": [
      "                   count      mean       std  min   25%   50%   75%  max\n",
      "scarcity_time      199.0  4.600503  1.564061  1.0  3.50  4.75  5.75  7.0\n",
      "scarcity_quantity  199.0  4.698492  1.601372  1.0  3.80  5.20  6.00  7.0\n",
      "FOMO               199.0  4.442211  1.631331  1.0  3.10  4.80  5.80  7.0\n",
      "PU                 199.0  4.625126  1.626290  1.0  3.50  5.00  5.90  7.0\n",
      "BE                 199.0  4.648241  1.605950  1.0  3.20  5.20  6.00  7.0\n",
      "SE                 199.0  4.218593  1.632593  1.0  2.75  4.00  5.50  7.0\n",
      "US                 199.0  4.299497  1.624916  1.0  3.00  4.20  5.80  7.0\n"
     ]
    },
    {
     "data": {
      "image/png": "[encoded data removed]",
      "text/plain": [
       "<Figure size 800x500 with 1 Axes>"
      ]
     },
     "metadata": {},
     "output_type": "display_data"
    }
   ],
   "source": [
    "# Bước 3: Tạo biến tổng hợp\n",
    "data['Scarcity'] = data[['ST1','ST2','ST3','ST4','SQ1','SQ2','SQ3','SQ4','SQ5']].mean(axis=1)\n",
    "data['scarcity_time'] = data[['ST1','ST2','ST3','ST4']].mean(axis=1)\n",
    "data['scarcity_quantity'] = data[['SQ1','SQ2','SQ3','SQ4','SQ5']].mean(axis=1)\n",
    "data['FOMO'] = data[['FOMO1','FOMO2','FOMO3','FOMO4','FOMO5']].mean(axis=1)\n",
    "data['PU'] = data[['PU1','PU2','PU3','PU4','PU5']].mean(axis=1)\n",
    "data['BE'] = data[['BE1','BE2','BE3','BE4','BE5']].mean(axis=1)\n",
    "data['SE'] = data[['SE1','SE2','SE3','SE4']].mean(axis=1)\n",
    "data['US'] = data[['US1','US2','US3','US4','US5']].mean(axis=1)\n",
    "\n",
    "# Thống kê mô tả\n",
    "desc = data[['scarcity_time','scarcity_quantity','FOMO','PU','BE','SE','US']].describe().T\n",
    "print(desc)\n",
    "\n",
    "# (Tuỳ chọn) Vẽ boxplot để xem phân bố\n",
    "import seaborn as sns\n",
    "import matplotlib.pyplot as plt\n",
    "\n",
    "plt.figure(figsize=(8,5))\n",
    "sns.boxplot(data=data[['scarcity_time','scarcity_quantity','FOMO','PU','BE','SE','US']])\n",
    "plt.title(\"Phân bố điểm trung bình các thang đo\", fontsize=13)\n",
    "plt.ylabel(\"Giá trị trung bình (Mean)\")\n",
    "plt.savefig('Phân bố điểm trung bình các thang đo')\n",
    "plt.show()\n",
    "#Tất cả các thang đo đạt độ tin cậy cao (Cronbach’s alpha > 0.9) và dữ liệu mô tả ổn định → Không cần loại biến hay xử lý thêm."
   ]
  },
  {
   "cell_type": "markdown",
   "id": "5ae51e38-d1ec-4cca-841f-222b63acf58b",
   "metadata": {},
   "source": [
    "BƯỚC 3: PHÂN TÍCH NHÂN TỐ KHÁM PHÁ (EFA)"
   ]
  },
  {
   "cell_type": "code",
   "execution_count": 22,
   "id": "8f5aa83d-09d2-4386-a723-04fb2cddf9a3",
   "metadata": {},
   "outputs": [
    {
     "name": "stdout",
     "output_type": "stream",
     "text": [
      "Requirement already satisfied: factor_analyzer in /usr/local/python/3.12.1/lib/python3.12/site-packages (0.5.1)\n",
      "Requirement already satisfied: pandas in /home/codespace/.local/lib/python3.12/site-packages (from factor_analyzer) (2.3.1)\n",
      "Requirement already satisfied: scipy in /home/codespace/.local/lib/python3.12/site-packages (from factor_analyzer) (1.16.0)\n",
      "Requirement already satisfied: numpy in /home/codespace/.local/lib/python3.12/site-packages (from factor_analyzer) (2.3.1)\n",
      "Requirement already satisfied: scikit-learn in /home/codespace/.local/lib/python3.12/site-packages (from factor_analyzer) (1.7.0)\n",
      "Requirement already satisfied: python-dateutil>=2.8.2 in /home/codespace/.local/lib/python3.12/site-packages (from pandas->factor_analyzer) (2.9.0.post0)\n",
      "Requirement already satisfied: pytz>=2020.1 in /home/codespace/.local/lib/python3.12/site-packages (from pandas->factor_analyzer) (2025.2)\n",
      "Requirement already satisfied: tzdata>=2022.7 in /home/codespace/.local/lib/python3.12/site-packages (from pandas->factor_analyzer) (2025.2)\n",
      "Requirement already satisfied: six>=1.5 in /home/codespace/.local/lib/python3.12/site-packages (from python-dateutil>=2.8.2->pandas->factor_analyzer) (1.17.0)\n",
      "Requirement already satisfied: joblib>=1.2.0 in /home/codespace/.local/lib/python3.12/site-packages (from scikit-learn->factor_analyzer) (1.5.1)\n",
      "Requirement already satisfied: threadpoolctl>=3.1.0 in /home/codespace/.local/lib/python3.12/site-packages (from scikit-learn->factor_analyzer) (3.6.0)\n",
      "\n",
      "\u001b[1m[\u001b[0m\u001b[34;49mnotice\u001b[0m\u001b[1;39;49m]\u001b[0m\u001b[39;49m A new release of pip is available: \u001b[0m\u001b[31;49m25.1.1\u001b[0m\u001b[39;49m -> \u001b[0m\u001b[32;49m25.2\u001b[0m\n",
      "\u001b[1m[\u001b[0m\u001b[34;49mnotice\u001b[0m\u001b[1;39;49m]\u001b[0m\u001b[39;49m To update, run: \u001b[0m\u001b[32;49mpython3 -m pip install --upgrade pip\u001b[0m\n"
     ]
    }
   ],
   "source": [
    "!pip install factor_analyzer\n"
   ]
  },
  {
   "cell_type": "code",
   "execution_count": 23,
   "id": "5ccbfdf8-0ce4-4e13-aecb-b6da5c3d3f41",
   "metadata": {},
   "outputs": [],
   "source": [
    "import pandas as pd\n",
    "from factor_analyzer import FactorAnalyzer\n",
    "from factor_analyzer.factor_analyzer import calculate_kmo, calculate_bartlett_sphericity"
   ]
  },
  {
   "cell_type": "code",
   "execution_count": 24,
   "id": "1077a9b8-114e-49d4-8644-b25059d34327",
   "metadata": {},
   "outputs": [],
   "source": [
    "cols = ['ST1','ST2','ST3','ST4','SQ1','SQ2','SQ3','SQ4','SQ5',\n",
    "        'FOMO1','FOMO2','FOMO3','FOMO4','FOMO5',\n",
    "        'PU1','PU2','PU3','PU4','PU5',\n",
    "        'BE1','BE2','BE3','BE4','BE5',\n",
    "        'SE1','SE2','SE3','SE4',\n",
    "        'US1','US2','US3','US4','US5']\n",
    "data_factors = data[cols]"
   ]
  },
  {
   "cell_type": "code",
   "execution_count": 25,
   "id": "60d9b7d0-7818-4bd3-b5d9-c2c68220f502",
   "metadata": {},
   "outputs": [
    {
     "name": "stdout",
     "output_type": "stream",
     "text": [
      "KMO overall: 0.9402103147884301\n",
      "Bartlett’s Test p-value: 0.0\n"
     ]
    }
   ],
   "source": [
    "# Kiểm tra độ phù hợp của dữ liệu cho EFA\n",
    "kmo_all, kmo_model = calculate_kmo(data_factors)\n",
    "chi_square_value, p_value = calculate_bartlett_sphericity(data_factors)\n",
    "\n",
    "print(f\"KMO overall: {kmo_model}\")\n",
    "print(f\"Bartlett’s Test p-value: {p_value}\")\n",
    "#đọc kết quả: KMO > 0.6 → dữ liệu phù hợp để làm EFA. Bartlett’s Test p < 0.05 → các biến có tương quan, nên chạy EFA được."
   ]
  },
  {
   "cell_type": "code",
   "execution_count": 26,
   "id": "7c9166d1-ae8a-4067-bc3b-c12fab9dc391",
   "metadata": {},
   "outputs": [
    {
     "name": "stderr",
     "output_type": "stream",
     "text": [
      "/home/codespace/.local/lib/python3.12/site-packages/sklearn/utils/deprecation.py:132: FutureWarning: 'force_all_finite' was renamed to 'ensure_all_finite' in 1.6 and will be removed in 1.8.\n",
      "  warnings.warn(\n"
     ]
    },
    {
     "data": {
      "image/png": "[encoded data removed]",
      "text/plain": [
       "<Figure size 640x480 with 1 Axes>"
      ]
     },
     "metadata": {},
     "output_type": "display_data"
    }
   ],
   "source": [
    "# Kiểm tra eigenvalues để xác định số nhân tố nên giữ lại\n",
    "fa = FactorAnalyzer(rotation=None)\n",
    "fa.fit(data_factors)\n",
    "ev, v = fa.get_eigenvalues()\n",
    "\n",
    "# Hiển thị eigenvalues\n",
    "import matplotlib.pyplot as plt\n",
    "\n",
    "plt.scatter(range(1, data_factors.shape[1]+1), ev)\n",
    "plt.plot(range(1, data_factors.shape[1]+1), ev)\n",
    "plt.title('Biểu đồ Scree Plot')\n",
    "plt.xlabel('Factor')\n",
    "plt.ylabel('Eigenvalue')\n",
    "plt.grid()\n",
    "plt.savefig('biểu đồ scree plot')\n",
    "plt.show()"
   ]
  },
  {
   "cell_type": "markdown",
   "id": "5a4f1e18-46bf-471b-a6e9-f874cad47494",
   "metadata": {},
   "source": [
    "Khi EFA xác định được 6 nhân tố, điều đó nghĩa là:\n",
    "Tập hợp các biến quan sát (câu hỏi trong bảng khảo sát) được gộp lại thành 6 nhóm chính.\n",
    "Các nhân tố khác (từ nhân tố thứ 7 trở đi) có Eigenvalue < 1, nên không đủ điều kiện để được giữ lại (vì chúng giải thích rất ít phương sai, < 1 biến gốc).\n",
    "Nói cách khác, mô hình ban đầu có thể có 6 thang đo lý thuyết, và EFA xác nhận đúng 6 nhóm là phù hợp — các nhóm khác (nếu có) chỉ là nhiễu, không có ý nghĩa."
   ]
  },
  {
   "cell_type": "code",
   "execution_count": 27,
   "id": "8c63c2b7-80e2-41e3-aa56-d6ae0f92c7ed",
   "metadata": {},
   "outputs": [
    {
     "name": "stdout",
     "output_type": "stream",
     "text": [
      "                   scarcity_time  scarcity_quantity      FOMO        PU  \\\n",
      "scarcity_time           1.000000           0.790713  0.757043  0.795311   \n",
      "scarcity_quantity       0.790713           1.000000  0.765768  0.798346   \n",
      "FOMO                    0.757043           0.765768  1.000000  0.814832   \n",
      "PU                      0.795311           0.798346  0.814832  1.000000   \n",
      "BE                      0.678584           0.706861  0.656366  0.791760   \n",
      "SE                      0.149708           0.146075  0.128692  0.206308   \n",
      "US                      0.661174           0.656910  0.712511  0.718271   \n",
      "\n",
      "                         BE        SE        US  \n",
      "scarcity_time      0.678584  0.149708  0.661174  \n",
      "scarcity_quantity  0.706861  0.146075  0.656910  \n",
      "FOMO               0.656366  0.128692  0.712511  \n",
      "PU                 0.791760  0.206308  0.718271  \n",
      "BE                 1.000000  0.175682  0.641944  \n",
      "SE                 0.175682  1.000000  0.024220  \n",
      "US                 0.641944  0.024220  1.000000  \n"
     ]
    },
    {
     "data": {
      "image/png": "[encoded data removed]",
      "text/plain": [
       "<Figure size 800x600 with 2 Axes>"
      ]
     },
     "metadata": {},
     "output_type": "display_data"
    }
   ],
   "source": [
    "import pandas as pd\n",
    "import seaborn as sns\n",
    "import matplotlib.pyplot as plt\n",
    "factors = data[['scarcity_time','scarcity_quantity', 'FOMO', 'PU', 'BE', 'SE', 'US']]\n",
    "\n",
    "# Tính ma trận tương quan Pearson\n",
    "corr_matrix = factors.corr(method='pearson')\n",
    "print(corr_matrix)\n",
    "\n",
    "# Vẽ biểu đồ heatmap để trực quan hoá\n",
    "plt.figure(figsize=(8,6))\n",
    "sns.heatmap(corr_matrix, annot=True, cmap='coolwarm', center=0)\n",
    "plt.title(\"Ma trận tương quan Pearson giữa các nhân tố\")\n",
    "plt.savefig(\"Ma trận tương quan Pearson giữa các nhân tố\")\n",
    "plt.show()\n"
   ]
  },
  {
   "cell_type": "markdown",
   "id": "b6673eed-86cd-43fb-88db-576f429715ef",
   "metadata": {},
   "source": [
    "PHÂN TÍCH HỒI QUY ĐA BIẾN"
   ]
  },
  {
   "cell_type": "code",
   "execution_count": 25,
   "id": "2327378e-9628-41ba-bf29-3f892a5e6fbc",
   "metadata": {},
   "outputs": [
    {
     "name": "stdout",
     "output_type": "stream",
     "text": [
      "Collecting statsmodels\n",
      "  Downloading statsmodels-0.14.5-cp312-cp312-manylinux2014_x86_64.manylinux_2_17_x86_64.manylinux_2_28_x86_64.whl.metadata (9.5 kB)\n",
      "Requirement already satisfied: numpy<3,>=1.22.3 in /home/codespace/.local/lib/python3.12/site-packages (from statsmodels) (2.3.1)\n",
      "Requirement already satisfied: scipy!=1.9.2,>=1.8 in /home/codespace/.local/lib/python3.12/site-packages (from statsmodels) (1.16.0)\n",
      "Requirement already satisfied: pandas!=2.1.0,>=1.4 in /home/codespace/.local/lib/python3.12/site-packages (from statsmodels) (2.3.1)\n",
      "Collecting patsy>=0.5.6 (from statsmodels)\n",
      "  Downloading patsy-1.0.1-py2.py3-none-any.whl.metadata (3.3 kB)\n",
      "Requirement already satisfied: packaging>=21.3 in /home/codespace/.local/lib/python3.12/site-packages (from statsmodels) (25.0)\n",
      "Requirement already satisfied: python-dateutil>=2.8.2 in /home/codespace/.local/lib/python3.12/site-packages (from pandas!=2.1.0,>=1.4->statsmodels) (2.9.0.post0)\n",
      "Requirement already satisfied: pytz>=2020.1 in /home/codespace/.local/lib/python3.12/site-packages (from pandas!=2.1.0,>=1.4->statsmodels) (2025.2)\n",
      "Requirement already satisfied: tzdata>=2022.7 in /home/codespace/.local/lib/python3.12/site-packages (from pandas!=2.1.0,>=1.4->statsmodels) (2025.2)\n",
      "Requirement already satisfied: six>=1.5 in /home/codespace/.local/lib/python3.12/site-packages (from python-dateutil>=2.8.2->pandas!=2.1.0,>=1.4->statsmodels) (1.17.0)\n",
      "Downloading statsmodels-0.14.5-cp312-cp312-manylinux2014_x86_64.manylinux_2_17_x86_64.manylinux_2_28_x86_64.whl (10.4 MB)\n",
      "\u001b[2K   \u001b[90m━━━━━━━━━━━━━━━━━━━━━━━━━━━━━━━━━━━━━━━━\u001b[0m \u001b[32m10.4/10.4 MB\u001b[0m \u001b[31m57.5 MB/s\u001b[0m eta \u001b[36m0:00:00\u001b[0m\n",
      "\u001b[?25hDownloading patsy-1.0.1-py2.py3-none-any.whl (232 kB)\n",
      "Installing collected packages: patsy, statsmodels\n",
      "\u001b[2K   \u001b[90m━━━━━━━━━━━━━━━━━━━━━━━━━━━━━━━━━━━━━━━━\u001b[0m \u001b[32m2/2\u001b[0m [statsmodels]\u001b[0m [statsmodels]\n",
      "\u001b[1A\u001b[2KSuccessfully installed patsy-1.0.1 statsmodels-0.14.5\n",
      "\n",
      "\u001b[1m[\u001b[0m\u001b[34;49mnotice\u001b[0m\u001b[1;39;49m]\u001b[0m\u001b[39;49m A new release of pip is available: \u001b[0m\u001b[31;49m25.1.1\u001b[0m\u001b[39;49m -> \u001b[0m\u001b[32;49m25.2\u001b[0m\n",
      "\u001b[1m[\u001b[0m\u001b[34;49mnotice\u001b[0m\u001b[1;39;49m]\u001b[0m\u001b[39;49m To update, run: \u001b[0m\u001b[32;49mpython3 -m pip install --upgrade pip\u001b[0m\n"
     ]
    }
   ],
   "source": [
    "!pip install statsmodels\n"
   ]
  },
  {
   "cell_type": "code",
   "execution_count": 21,
   "id": "a73d859d-28af-4d3e-9aa3-41647c1f5475",
   "metadata": {},
   "outputs": [
    {
     "name": "stdout",
     "output_type": "stream",
     "text": [
      "                            OLS Regression Results                            \n",
      "==============================================================================\n",
      "Dep. Variable:                     US   R-squared:                       0.595\n",
      "Model:                            OLS   Adj. R-squared:                  0.584\n",
      "Method:                 Least Squares   F-statistic:                     56.64\n",
      "Date:                Sun, 12 Oct 2025   Prob (F-statistic):           4.76e-36\n",
      "Time:                        06:59:27   Log-Likelihood:                -288.61\n",
      "No. Observations:                 199   AIC:                             589.2\n",
      "Df Residuals:                     193   BIC:                             609.0\n",
      "Df Model:                           5                                         \n",
      "Covariance Type:            nonrobust                                         \n",
      "==============================================================================\n",
      "                 coef    std err          t      P>|t|      [0.025      0.975]\n",
      "------------------------------------------------------------------------------\n",
      "const          0.8181      0.297      2.759      0.006       0.233       1.403\n",
      "Scarcity       0.1530      0.101      1.507      0.133      -0.047       0.353\n",
      "FOMO           0.3083      0.085      3.612      0.000       0.140       0.477\n",
      "PU             0.2399      0.106      2.259      0.025       0.030       0.449\n",
      "BE             0.1674      0.078      2.157      0.032       0.014       0.321\n",
      "SE            -0.1157      0.047     -2.475      0.014      -0.208      -0.024\n",
      "==============================================================================\n",
      "Omnibus:                       12.664   Durbin-Watson:                   1.921\n",
      "Prob(Omnibus):                  0.002   Jarque-Bera (JB):               13.948\n",
      "Skew:                          -0.526   Prob(JB):                     0.000936\n",
      "Kurtosis:                       3.757   Cond. No.                         42.5\n",
      "==============================================================================\n",
      "\n",
      "Notes:\n",
      "[1] Standard Errors assume that the covariance matrix of the errors is correctly specified.\n",
      "Durbin–Watson = 1.921 → Không có tự tương quan phần dư (vì DW nằm trong khoảng 1.5–2.5).Kiểm định Jarque–Bera có p = 0.0009 < 0.05 → Phần dư hơi lệch chuẩn nhẹ, nhưng mức độ chấp nhận được. Cond. No. = 42.5 (< 100) → Không có vấn đề đa cộng tuyến nghiêm trọng.\n"
     ]
    }
   ],
   "source": [
    "import statsmodels.api as sm\n",
    "\n",
    "# Xác định biến độc lập và phụ thuộc\n",
    "X = data[['Scarcity', 'FOMO', 'PU', 'BE', 'SE']]\n",
    "y = data['US']\n",
    "\n",
    "# Thêm hằng số vào mô hình\n",
    "X = sm.add_constant(X)\n",
    "\n",
    "# Chạy hồi quy tuyến tính đa biến\n",
    "model = sm.OLS(y, X).fit()\n",
    "\n",
    "# In kết quả\n",
    "print(model.summary())\n",
    "print ('Durbin–Watson = 1.921 → Không có tự tương quan phần dư (vì DW nằm trong khoảng 1.5–2.5).Kiểm định Jarque–Bera có p = 0.0009 < 0.05 → Phần dư hơi lệch chuẩn nhẹ, nhưng mức độ chấp nhận được. Cond. No. = 42.5 (< 100) → Không có vấn đề đa cộng tuyến nghiêm trọng.')"
   ]
  },
  {
   "cell_type": "code",
   "execution_count": 27,
   "id": "f3c2306c-33b8-4ed3-aeb4-9d736c38958c",
   "metadata": {},
   "outputs": [
    {
     "name": "stdout",
     "output_type": "stream",
     "text": [
      "Requirement already satisfied: pingouin in /usr/local/python/3.12.1/lib/python3.12/site-packages (0.5.5)\n",
      "Requirement already satisfied: matplotlib in /home/codespace/.local/lib/python3.12/site-packages (from pingouin) (3.10.3)\n",
      "Requirement already satisfied: numpy in /home/codespace/.local/lib/python3.12/site-packages (from pingouin) (2.3.1)\n",
      "Requirement already satisfied: pandas>=1.5 in /home/codespace/.local/lib/python3.12/site-packages (from pingouin) (2.3.1)\n",
      "Requirement already satisfied: pandas-flavor in /usr/local/python/3.12.1/lib/python3.12/site-packages (from pingouin) (0.7.0)\n",
      "Requirement already satisfied: scikit-learn>=1.2 in /home/codespace/.local/lib/python3.12/site-packages (from pingouin) (1.7.0)\n",
      "Requirement already satisfied: scipy in /home/codespace/.local/lib/python3.12/site-packages (from pingouin) (1.16.0)\n",
      "Requirement already satisfied: seaborn in /home/codespace/.local/lib/python3.12/site-packages (from pingouin) (0.13.2)\n",
      "Requirement already satisfied: statsmodels in /usr/local/python/3.12.1/lib/python3.12/site-packages (from pingouin) (0.14.5)\n",
      "Requirement already satisfied: tabulate in /usr/local/python/3.12.1/lib/python3.12/site-packages (from pingouin) (0.9.0)\n",
      "Requirement already satisfied: python-dateutil>=2.8.2 in /home/codespace/.local/lib/python3.12/site-packages (from pandas>=1.5->pingouin) (2.9.0.post0)\n",
      "Requirement already satisfied: pytz>=2020.1 in /home/codespace/.local/lib/python3.12/site-packages (from pandas>=1.5->pingouin) (2025.2)\n",
      "Requirement already satisfied: tzdata>=2022.7 in /home/codespace/.local/lib/python3.12/site-packages (from pandas>=1.5->pingouin) (2025.2)\n",
      "Requirement already satisfied: six>=1.5 in /home/codespace/.local/lib/python3.12/site-packages (from python-dateutil>=2.8.2->pandas>=1.5->pingouin) (1.17.0)\n",
      "Requirement already satisfied: joblib>=1.2.0 in /home/codespace/.local/lib/python3.12/site-packages (from scikit-learn>=1.2->pingouin) (1.5.1)\n",
      "Requirement already satisfied: threadpoolctl>=3.1.0 in /home/codespace/.local/lib/python3.12/site-packages (from scikit-learn>=1.2->pingouin) (3.6.0)\n",
      "Requirement already satisfied: contourpy>=1.0.1 in /home/codespace/.local/lib/python3.12/site-packages (from matplotlib->pingouin) (1.3.2)\n",
      "Requirement already satisfied: cycler>=0.10 in /home/codespace/.local/lib/python3.12/site-packages (from matplotlib->pingouin) (0.12.1)\n",
      "Requirement already satisfied: fonttools>=4.22.0 in /home/codespace/.local/lib/python3.12/site-packages (from matplotlib->pingouin) (4.58.5)\n",
      "Requirement already satisfied: kiwisolver>=1.3.1 in /home/codespace/.local/lib/python3.12/site-packages (from matplotlib->pingouin) (1.4.8)\n",
      "Requirement already satisfied: packaging>=20.0 in /home/codespace/.local/lib/python3.12/site-packages (from matplotlib->pingouin) (25.0)\n",
      "Requirement already satisfied: pillow>=8 in /home/codespace/.local/lib/python3.12/site-packages (from matplotlib->pingouin) (11.3.0)\n",
      "Requirement already satisfied: pyparsing>=2.3.1 in /home/codespace/.local/lib/python3.12/site-packages (from matplotlib->pingouin) (3.2.3)\n",
      "Requirement already satisfied: xarray in /usr/local/python/3.12.1/lib/python3.12/site-packages (from pandas-flavor->pingouin) (2025.10.1)\n",
      "Requirement already satisfied: patsy>=0.5.6 in /usr/local/python/3.12.1/lib/python3.12/site-packages (from statsmodels->pingouin) (1.0.1)\n",
      "\n",
      "\u001b[1m[\u001b[0m\u001b[34;49mnotice\u001b[0m\u001b[1;39;49m]\u001b[0m\u001b[39;49m A new release of pip is available: \u001b[0m\u001b[31;49m25.1.1\u001b[0m\u001b[39;49m -> \u001b[0m\u001b[32;49m25.2\u001b[0m\n",
      "\u001b[1m[\u001b[0m\u001b[34;49mnotice\u001b[0m\u001b[1;39;49m]\u001b[0m\u001b[39;49m To update, run: \u001b[0m\u001b[32;49mpython3 -m pip install --upgrade pip\u001b[0m\n",
      "Note: you may need to restart the kernel to use updated packages.\n"
     ]
    }
   ],
   "source": [
    "pip install pingouin\n"
   ]
  },
  {
   "cell_type": "markdown",
   "id": "627330b2-965c-4e70-891b-1464009998f9",
   "metadata": {},
   "source": [
    "TÁC ĐỘNG GIÁN TIẾP"
   ]
  },
  {
   "cell_type": "code",
   "execution_count": 28,
   "id": "1e432af1-74fe-4abd-a336-ea1675347b42",
   "metadata": {},
   "outputs": [
    {
     "name": "stdout",
     "output_type": "stream",
     "text": [
      "                            OLS Regression Results                            \n",
      "==============================================================================\n",
      "Dep. Variable:                     US   R-squared:                       0.550\n",
      "Model:                            OLS   Adj. R-squared:                  0.546\n",
      "Method:                 Least Squares   F-statistic:                     119.8\n",
      "Date:                Sun, 12 Oct 2025   Prob (F-statistic):           1.01e-34\n",
      "Time:                        07:13:01   Log-Likelihood:                -298.99\n",
      "No. Observations:                 199   AIC:                             604.0\n",
      "Df Residuals:                     196   BIC:                             613.9\n",
      "Df Model:                           2                                         \n",
      "Covariance Type:            nonrobust                                         \n",
      "==============================================================================\n",
      "                 coef    std err          t      P>|t|      [0.025      0.975]\n",
      "------------------------------------------------------------------------------\n",
      "Intercept      0.6335      0.255      2.481      0.014       0.130       1.137\n",
      "Scarcity       0.3756      0.087      4.300      0.000       0.203       0.548\n",
      "FOMO           0.4317      0.080      5.373      0.000       0.273       0.590\n",
      "==============================================================================\n",
      "Omnibus:                       13.538   Durbin-Watson:                   1.769\n",
      "Prob(Omnibus):                  0.001   Jarque-Bera (JB):               14.436\n",
      "Skew:                          -0.589   Prob(JB):                     0.000733\n",
      "Kurtosis:                       3.596   Cond. No.                         22.8\n",
      "==============================================================================\n",
      "\n",
      "Notes:\n",
      "[1] Standard Errors assume that the covariance matrix of the errors is correctly specified.\n"
     ]
    }
   ],
   "source": [
    "import pandas as pd\n",
    "from statsmodels.stats.mediation import Mediation\n",
    "import statsmodels.formula.api as smf\n",
    "import matplotlib.pyplot as plt\n",
    "model_direct = smf.ols(\"US ~ Scarcity + FOMO\", data=data).fit()\n",
    "print(model_direct.summary())"
   ]
  },
  {
   "cell_type": "code",
   "execution_count": 29,
   "id": "f4cfbe83-c4db-42f5-b3ee-42056e9bfbda",
   "metadata": {},
   "outputs": [
    {
     "name": "stdout",
     "output_type": "stream",
     "text": [
      "                            OLS Regression Results                            \n",
      "==============================================================================\n",
      "Dep. Variable:                     US   R-squared:                       0.544\n",
      "Model:                            OLS   Adj. R-squared:                  0.540\n",
      "Method:                 Least Squares   F-statistic:                     117.1\n",
      "Date:                Sun, 12 Oct 2025   Prob (F-statistic):           3.49e-34\n",
      "Time:                        07:16:02   Log-Likelihood:                -300.26\n",
      "No. Observations:                 199   AIC:                             606.5\n",
      "Df Residuals:                     196   BIC:                             616.4\n",
      "Df Model:                           2                                         \n",
      "Covariance Type:            nonrobust                                         \n",
      "==============================================================================\n",
      "                 coef    std err          t      P>|t|      [0.025      0.975]\n",
      "------------------------------------------------------------------------------\n",
      "Intercept      0.6209      0.257      2.411      0.017       0.113       1.129\n",
      "Scarcity       0.3381      0.097      3.499      0.001       0.148       0.529\n",
      "PU             0.4550      0.089      5.102      0.000       0.279       0.631\n",
      "==============================================================================\n",
      "Omnibus:                       17.456   Durbin-Watson:                   1.780\n",
      "Prob(Omnibus):                  0.000   Jarque-Bera (JB):               19.328\n",
      "Skew:                          -0.733   Prob(JB):                     6.35e-05\n",
      "Kurtosis:                       3.428   Cond. No.                         23.2\n",
      "==============================================================================\n",
      "\n",
      "Notes:\n",
      "[1] Standard Errors assume that the covariance matrix of the errors is correctly specified.\n"
     ]
    }
   ],
   "source": [
    "model_direct = smf.ols(\"US ~ Scarcity + PU\", data=data).fit()\n",
    "print(model_direct.summary())"
   ]
  },
  {
   "cell_type": "code",
   "execution_count": 24,
   "id": "4eb75965-db8f-4e93-bd7c-02fad50f5238",
   "metadata": {},
   "outputs": [
    {
     "name": "stdout",
     "output_type": "stream",
     "text": [
      "=== Mediation: Scarcity -> FOMO -> US ===\n",
      "       path      coef        se          pval  CI[2.5%]  CI[97.5%]  sig\n",
      "0  FOMO ~ X  0.874443  0.045992  1.866499e-46  0.783744   0.965143  Yes\n",
      "1  Y ~ FOMO  0.709710  0.049795  3.857381e-32  0.611511   0.807909  Yes\n",
      "2     Total  0.753078  0.055415  4.139432e-30  0.643795   0.862362  Yes\n",
      "3    Direct  0.375572  0.087332  2.685615e-05  0.203340   0.547804  Yes\n",
      "4  Indirect  0.377506  0.108046  0.000000e+00  0.196138   0.601334  Yes\n",
      "\n",
      "=== Mediation: Scarcity -> PU -> US ===\n",
      "       path      coef        se          pval  CI[2.5%]  CI[97.5%]  sig\n",
      "0    PU ~ X  0.911870  0.041700  1.364774e-54  0.829634   0.994105  Yes\n",
      "1    Y ~ PU  0.717665  0.049529  7.256727e-33  0.619989   0.815340  Yes\n",
      "2     Total  0.753078  0.055415  4.139432e-30  0.643795   0.862362  Yes\n",
      "3    Direct  0.338146  0.096634  5.774677e-04  0.147569   0.528723  Yes\n",
      "4  Indirect  0.414932  0.095107  4.000000e-04  0.217272   0.592512  Yes\n"
     ]
    }
   ],
   "source": [
    "import pingouin as pg\n",
    "import pandas as pd\n",
    "\n",
    "# Mediation Scarcity -> FOMO -> US\n",
    "med_fomo = pg.mediation_analysis(data=data, x='Scarcity', m='FOMO', y='US', \n",
    "                                alpha=0.05, n_boot=5000)\n",
    "print(\"=== Mediation: Scarcity -> FOMO -> US ===\")\n",
    "print(med_fomo)\n",
    "\n",
    "# Mediation Scarcity -> PU -> US\n",
    "med_pu = pg.mediation_analysis(data=data, x='Scarcity', m='PU', y='US',\n",
    "                               alpha=0.05, n_boot=5000)\n",
    "print(\"\\n=== Mediation: Scarcity -> PU -> US ===\")\n",
    "print(med_pu)\n"
   ]
  },
  {
   "cell_type": "markdown",
   "id": "ec34553e-2818-4fa9-9a2a-59d83510408b",
   "metadata": {},
   "source": [
    "TÁC ĐỘNG TRỰC TIẾP"
   ]
  },
  {
   "cell_type": "code",
   "execution_count": 34,
   "id": "7e876f9a-74e3-4ab8-bce9-79c8d86045b5",
   "metadata": {},
   "outputs": [
    {
     "name": "stdout",
     "output_type": "stream",
     "text": [
      "                            OLS Regression Results                            \n",
      "==============================================================================\n",
      "Dep. Variable:                     US   R-squared:                       0.484\n",
      "Model:                            OLS   Adj. R-squared:                  0.481\n",
      "Method:                 Least Squares   F-statistic:                     184.7\n",
      "Date:                Sun, 12 Oct 2025   Prob (F-statistic):           4.14e-30\n",
      "Time:                        06:27:36   Log-Likelihood:                -312.67\n",
      "No. Observations:                 199   AIC:                             629.3\n",
      "Df Residuals:                     197   BIC:                             635.9\n",
      "Df Model:                           1                                         \n",
      "Covariance Type:            nonrobust                                         \n",
      "==============================================================================\n",
      "                 coef    std err          t      P>|t|      [0.025      0.975]\n",
      "------------------------------------------------------------------------------\n",
      "Intercept      0.7940      0.271      2.930      0.004       0.260       1.328\n",
      "Scarcity       0.7531      0.055     13.590      0.000       0.644       0.862\n",
      "==============================================================================\n",
      "Omnibus:                       10.824   Durbin-Watson:                   1.763\n",
      "Prob(Omnibus):                  0.004   Jarque-Bera (JB):               11.623\n",
      "Skew:                          -0.591   Prob(JB):                      0.00299\n",
      "Kurtosis:                       2.920   Cond. No.                         16.6\n",
      "==============================================================================\n",
      "\n",
      "Notes:\n",
      "[1] Standard Errors assume that the covariance matrix of the errors is correctly specified.\n"
     ]
    }
   ],
   "source": [
    "#Scarcity ảnh hưởng trực tiếp đến US\n",
    "model_direct = smf.ols(\"US ~ Scarcity\", data=data).fit()\n",
    "print(model_direct.summary())"
   ]
  },
  {
   "cell_type": "code",
   "execution_count": 32,
   "id": "babbae0e-84d5-4688-b8c4-4a778e3c5c0a",
   "metadata": {},
   "outputs": [
    {
     "name": "stdout",
     "output_type": "stream",
     "text": [
      "                            OLS Regression Results                            \n",
      "==============================================================================\n",
      "Dep. Variable:                     US   R-squared:                       0.484\n",
      "Model:                            OLS   Adj. R-squared:                  0.481\n",
      "Method:                 Least Squares   F-statistic:                     184.7\n",
      "Date:                Sun, 12 Oct 2025   Prob (F-statistic):           4.14e-30\n",
      "Time:                        06:26:29   Log-Likelihood:                -312.67\n",
      "No. Observations:                 199   AIC:                             629.3\n",
      "Df Residuals:                     197   BIC:                             635.9\n",
      "Df Model:                           1                                         \n",
      "Covariance Type:            nonrobust                                         \n",
      "==============================================================================\n",
      "                 coef    std err          t      P>|t|      [0.025      0.975]\n",
      "------------------------------------------------------------------------------\n",
      "Intercept      0.7940      0.271      2.930      0.004       0.260       1.328\n",
      "Scarcity       0.7531      0.055     13.590      0.000       0.644       0.862\n",
      "==============================================================================\n",
      "Omnibus:                       10.824   Durbin-Watson:                   1.763\n",
      "Prob(Omnibus):                  0.004   Jarque-Bera (JB):               11.623\n",
      "Skew:                          -0.591   Prob(JB):                      0.00299\n",
      "Kurtosis:                       2.920   Cond. No.                         16.6\n",
      "==============================================================================\n",
      "\n",
      "Notes:\n",
      "[1] Standard Errors assume that the covariance matrix of the errors is correctly specified.\n"
     ]
    }
   ],
   "source": [
    "#Scarcity, bE ảnh hưởng trực tiếp đến US\n",
    "model_direct = smf.ols(\"US ~ Scarcity + BE\", data=data).fit()\n",
    "print(model_direct.summary())"
   ]
  },
  {
   "cell_type": "code",
   "execution_count": 26,
   "id": "669fcc49-3201-4ca9-8aa0-77d1256a0e26",
   "metadata": {},
   "outputs": [
    {
     "name": "stdout",
     "output_type": "stream",
     "text": [
      "                            OLS Regression Results                            \n",
      "==============================================================================\n",
      "Dep. Variable:                     US   R-squared:                       0.491\n",
      "Model:                            OLS   Adj. R-squared:                  0.486\n",
      "Method:                 Least Squares   F-statistic:                     94.59\n",
      "Date:                Sun, 12 Oct 2025   Prob (F-statistic):           1.77e-29\n",
      "Time:                        06:18:47   Log-Likelihood:                -311.25\n",
      "No. Observations:                 199   AIC:                             628.5\n",
      "Df Residuals:                     196   BIC:                             638.4\n",
      "Df Model:                           2                                         \n",
      "Covariance Type:            nonrobust                                         \n",
      "==============================================================================\n",
      "                 coef    std err          t      P>|t|      [0.025      0.975]\n",
      "------------------------------------------------------------------------------\n",
      "Intercept      1.0886      0.322      3.380      0.001       0.453       1.724\n",
      "Scarcity       0.7677      0.056     13.746      0.000       0.658       0.878\n",
      "SE            -0.0859      0.051     -1.674      0.096      -0.187       0.015\n",
      "==============================================================================\n",
      "Omnibus:                        8.577   Durbin-Watson:                   1.823\n",
      "Prob(Omnibus):                  0.014   Jarque-Bera (JB):                8.907\n",
      "Skew:                          -0.518   Prob(JB):                       0.0116\n",
      "Kurtosis:                       2.965   Cond. No.                         25.9\n",
      "==============================================================================\n",
      "\n",
      "Notes:\n",
      "[1] Standard Errors assume that the covariance matrix of the errors is correctly specified.\n"
     ]
    }
   ],
   "source": [
    "#Scarcity, SE ảnh hưởng trực tiếp đến US\n",
    "model_direct = smf.ols(\"US ~ Scarcity + BE\", data=data).fit()\n",
    "print(model_direct.summary())"
   ]
  }
 ],
 "metadata": {
  "kernelspec": {
   "display_name": "Python 3 (ipykernel)",
   "language": "python",
   "name": "python3"
  },
  "language_info": {
   "codemirror_mode": {
    "name": "ipython",
    "version": 3
   },
   "file_extension": ".py",
   "mimetype": "text/x-python",
   "name": "python",
   "nbconvert_exporter": "python",
   "pygments_lexer": "ipython3",
   "version": "3.12.1"
  }
 },
 "nbformat": 4,
 "nbformat_minor": 5
}
